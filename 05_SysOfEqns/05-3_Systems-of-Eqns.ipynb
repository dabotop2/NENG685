{
 "cells": [
  {
   "cell_type": "markdown",
   "metadata": {},
   "source": [
    "#### <h1 align=\"center\"><font color=\"00308F\" size=110>Systems of Equations</font></h1>\n",
    "\n",
    "This notebook supplements the lesson 5 course notes on vectors, matrices, and systems of equations."
   ]
  },
  {
   "cell_type": "markdown",
   "metadata": {},
   "source": [
    "Let's start by setting up our environment and importing what we need.  "
   ]
  },
  {
   "cell_type": "code",
   "execution_count": null,
   "metadata": {
    "collapsed": true
   },
   "outputs": [],
   "source": [
    "import numpy as np\n",
    "import matplotlib.pyplot as plt\n",
    "%matplotlib inline"
   ]
  },
  {
   "cell_type": "markdown",
   "metadata": {
    "collapsed": true
   },
   "source": [
    "## Minors, Cofactors, Determinants\n",
    "\n",
    "In the first part of class, we learned about the method of cofactors as a method to calculate the determininant and inverse of a matrix.  Recall that the cofactor of A is given by:\n",
    "\n",
    "$$ C_{ij}=(-1)^{i+j}M_{ij}$$\n",
    "\n",
    "where $M_{ij}$ deletes the i$^{th}$ row and j$^{th}$ column and takes the determinant of the minor matrix.\n",
    "\n",
    "Let's code a funciton to compute the cofactor:\n",
    "\n",
    "For the sake of coding time, we will use the built-in numpy det solver to calculate minor det only. We could develop a function that calculated a 2x2 and/or 3x3 matrix determinant and recursively use the method of cofactors to get to that size of matrix, but that exercise is left to outside of class."
   ]
  },
  {
   "cell_type": "code",
   "execution_count": null,
   "metadata": {
    "collapsed": true
   },
   "outputs": [],
   "source": [
    "from numpy.linalg import det\n",
    "\n",
    "#! Define a function to calculate the cofactor"
   ]
  },
  {
   "cell_type": "markdown",
   "metadata": {},
   "source": [
    "The cofactor can then be used to calculate the determinant from the laplace expansion\n",
    "\n",
    "\\begin{align*}\n",
    "\\text{det}(A) &= \\sum_{j=1}^n a_{ij} C_{ij} \\text{ for any i} \\in \\{1,...,n\\} \\\\\n",
    "%\n",
    "&= \\sum_{i=1}^n a_{ij} C_{ij} \\text{ for any j} \\in \\{1,...,n\\}\n",
    "\\end{align*}\n",
    "\n",
    "Now, let's write  afunction to calculate the det of an arbitrary matrix A."
   ]
  },
  {
   "cell_type": "code",
   "execution_count": null,
   "metadata": {
    "collapsed": true
   },
   "outputs": [],
   "source": [
    "#! Define function to calculate determinant of arbitrary size with optional specifications for the row\n",
    "#! on which to perform the Laplace expansion"
   ]
  },
  {
   "cell_type": "markdown",
   "metadata": {},
   "source": [
    "Let's test the performance of our functions.  To compare, let's use the [numpy linear algebra package's det method](https://docs.scipy.org/doc/numpy-1.13.0/reference/generated/numpy.linalg.det.html).\n",
    "\n",
    "Let's first compare using a hard coded matrix.  Then let's generate a matrix of random numbers to compare."
   ]
  },
  {
   "cell_type": "code",
   "execution_count": null,
   "metadata": {},
   "outputs": [],
   "source": [
    "example = np.array([[1, 4, 7], [3, 0, 5], [-1, 9, 11]])\n",
    "\n",
    "#! Compare your mat_det to the python built - in using the example matrix"
   ]
  },
  {
   "cell_type": "code",
   "execution_count": null,
   "metadata": {},
   "outputs": [],
   "source": [
    "#! Generate random number array of size n by n where 10<n<=100\n",
    "\n",
    "#! Compare the your cofactor method to the built in"
   ]
  },
  {
   "cell_type": "markdown",
   "metadata": {},
   "source": [
    "Try running the above code with larger arrays.  What happens?  \n",
    "\n",
    "This is the reason for the iterative methods and discretization schemes discussed previously in lesson 4.  With that caveat in mind, let's continue exploring matrix solutions to systems of equations.  \n",
    "\n",
    "Recall, that the inverse can be calculated as:\n",
    "\n",
    "$$ A^{-1} = \\frac{1}{\\text{det}(A)}C^T$$\n",
    "\n",
    "Code up a function to calculate the inverse of a matrix:"
   ]
  },
  {
   "cell_type": "code",
   "execution_count": null,
   "metadata": {
    "collapsed": true
   },
   "outputs": [],
   "source": [
    "#! Use cofactors to get the inverse"
   ]
  },
  {
   "cell_type": "markdown",
   "metadata": {},
   "source": [
    "And let's compare our results using our mehtod and a python built-in:"
   ]
  },
  {
   "cell_type": "code",
   "execution_count": null,
   "metadata": {},
   "outputs": [],
   "source": [
    "#! Use previous random array and example array to compare"
   ]
  },
  {
   "cell_type": "markdown",
   "metadata": {},
   "source": [
    "## Reminder: Laplace (Heat/Diffusion) equation in 1D\n",
    "\n",
    "From lesson 4, we looked at the diffusion equation.  To show how the finite difference method could be used to solve PDEs we first solved the 1D, time dependent problem.  Here, we will bring it back to an ODE by reducing the heat equation to the Laplace equation by removing the time dependence to look at the system in steady state - i.e. once the system has come to equilibrium. \n",
    "\n",
    "\\begin{equation}\n",
    "T''(x) = 0, \\quad \\text{with boundary conditions for}\\quad T(x).\n",
    "\\end{equation}\n",
    "\n",
    "We will first consider simple fixed boundary conditions for the problem.\n",
    "\n",
    "We consider the an inifinitely thin rod of length $L=0.05$ m, with temperature held constant at $0 \\deg$ at one end and  $100 \\deg$ at the other:\n",
    "\n",
    "\\begin{align}\n",
    "T''(x) &= 0, &   T(0) &= 0 \\deg, &  T(L) &= 100 \\deg.\n",
    "\\end{align}\n",
    "\n",
    "Discretizing gives us:\n",
    "\n",
    "\\begin{align}\n",
    "T''(x) &= \\frac{T(x - h) - 2 T(x) + T(x + h)}{h^2}, &   T(0) &= 0 \\deg, &  T(L) &= 100 \\deg\n",
    "\\end{align}\n",
    "\n",
    "at each point on the rod, where the mesh separation is $h$.\n",
    "\n",
    "### One unknown mesh point\n",
    "\n",
    "\\begin{equation}\n",
    "\\frac{T_{-1} -2 T_0 + T_1}{h^2}  = 0,\n",
    "\\end{equation}\n",
    "\n",
    "where $h = L/2$. Since $T_{-1} = 0 \\deg$ and $T_1 = 100 \\deg$, we have\n",
    "\n",
    "\\begin{equation}\n",
    "T_0 = \\frac{T_{-1} + T_1}{2} = 50 \\deg\n",
    "\\end{equation}\n",
    "\n",
    "This is what we expect because when the system is in equilibrium, the temperature should vary linearly along the rod from $0 \\deg$ at $x=0$ to $100 \\deg$ at $x=L$.\n",
    "\n",
    "### Two unknown mesh points\n",
    "\n",
    "If we discretize the Laplace equation at the two unknown mesh points $T_0$ and $T_1$ using the first central approximation for the second derivative $T''$, we get\n",
    "\n",
    "\\begin{equation}\n",
    "\\left\\{\\begin{aligned}\n",
    "\\frac{T_{-1} -2 T_0 + T_1}{h^2}  = 0 \\\\\n",
    "\\frac{T_{0} -2 T_1 + T_2}{h^2}  = 0,\n",
    "\\end{aligned}\\right.\n",
    "\\end{equation}\n",
    "\n",
    "where $h = L/3$. If we express our unkowns $T_0$ and $T_1$ in terms of our boundary conditions $T_{-1} = 0 \\deg$ and $T_2 = 100 \\deg$, we get\n",
    "\n",
    "\\begin{equation}\n",
    "\\left\\{\\begin{aligned}\n",
    "-2 T_0 + T_1  = -T_{-1} \\\\\n",
    "T_{0} -2 T_1  = -T_2,\n",
    "\\end{aligned}\\right.\n",
    "\\end{equation}\n",
    "\n",
    "or in matrix form\n",
    "\n",
    "\\begin{equation}\n",
    "\\begin{pmatrix}\n",
    "-2 & 1 \\\\ 1 & -2\n",
    "\\end{pmatrix}\n",
    "\\begin{pmatrix}\n",
    "T_{0} \\\\ T_1\n",
    "\\end{pmatrix}\n",
    "=\n",
    "\\begin{pmatrix}\n",
    "-T_{-1} \\\\ - T_2\n",
    "\\end{pmatrix}.\n",
    "\\end{equation}\n",
    "\n",
    "Inverting the matrix yields\n",
    "\n",
    "\\begin{equation}\n",
    "\\begin{pmatrix}\n",
    "T_{0} \\\\ T_1\n",
    "\\end{pmatrix}\n",
    "=\n",
    "\\frac{1}{3}\\left(\\matrix{ {-2} & {-1} \\cr {-1} & {-2} } \\right)\n",
    "\\begin{pmatrix}\n",
    "-T_{-1} \\\\ - T_2\n",
    "\\end{pmatrix}\n",
    "= \\frac{1}{3}\n",
    "\\begin{pmatrix}\n",
    "2 T_{-1} + T_{2} \\\\\n",
    "T_{-1} + 2T_{2}\n",
    "\\end{pmatrix}\n",
    "=\n",
    "\\begin{pmatrix}\n",
    "33.333333 \\deg \\\\\n",
    "66.666666 \\deg\n",
    "\\end{pmatrix}\n",
    "\\end{equation}\n",
    "\n",
    "Again, we see that the temperature varies linearly through the rod.\n",
    "\n",
    "### Three unknown mesh points\n",
    "\n",
    "For 3 unkown mesh points $T_0$, $T_1$, and $T_2$, we get the system of equations\n",
    "\n",
    "\\begin{equation}\n",
    "\\left\\{\\begin{aligned}\n",
    "&\\phantom{-2}T_{-1} -2 T_0  + \\phantom{2}T_1 \\phantom{ -2 T_2 + 2T_3} = 0 \\\\\n",
    "&\\phantom{-2T_{-1} -2} T_0  - 2 T_1 + \\phantom{2}T_2 \\phantom{ + 2T_3} = 0 \\\\\n",
    "&\\phantom{-2T_{-1} -2 T_0  - 2} T_1 - 2 T_2 + T_3 = 0,\n",
    "\\end{aligned}\\right.\n",
    "\\end{equation}\n",
    "\n",
    "or, in matrix form,\n",
    "\n",
    "\\begin{equation}\n",
    "\\begin{pmatrix}\n",
    "-2 & 1 & 0 \\\\\n",
    "1 & -2 & 1 \\\\\n",
    "0 & 1 & -2\n",
    "\\end{pmatrix}\n",
    "\\begin{pmatrix}\n",
    "T_{0} \\\\ T_1 \\\\ T_2\n",
    "\\end{pmatrix}\n",
    "=\n",
    "\\begin{pmatrix}\n",
    "-T_{-1} \\\\ 0 \\\\ - T_3\n",
    "\\end{pmatrix}.\n",
    "\\end{equation}\n",
    "\n",
    "Solving this gives\n",
    "\n",
    "\\begin{equation}\n",
    "\\begin{pmatrix}\n",
    "T_{0} \\\\ T_1 \\\\ T_2\n",
    "\\end{pmatrix}\n",
    "=\n",
    "\\frac{1}{4}\n",
    "\\begin{pmatrix}\n",
    "{-3 } & {-2} & {-1 } \\\\ {-2} & -1 & {-2} \\\\ {-1 } & {-2} & {-3 }\n",
    "\\end{pmatrix}\n",
    "\\begin{pmatrix}\n",
    "-T_{-1} \\\\ 0 \\\\ - T_3\n",
    "\\end{pmatrix}\n",
    "=\n",
    "\\frac{1}{4}\n",
    "\\begin{pmatrix}\n",
    "3T_{-1} + T_3 \\\\ 2 T_{-1} + 2 T_3 \\\\ - T_{-1} + 3 T_3\n",
    "\\end{pmatrix}\n",
    "=\n",
    "\\begin{pmatrix}\n",
    "25  \\\\ 50 \\\\ 75\n",
    "\\end{pmatrix}\n",
    " \\deg.\n",
    "\\end{equation}\n",
    "\n",
    "\n",
    "### Summary \n",
    "\n",
    "\\begin{equation}\n",
    "T''(x) = 0,\n",
    "\\end{equation}\n",
    "\n",
    "with boundary conditions $T(0) = T_0$ and $T(L) = T_L$, yields a linear system of equation of the form\n",
    "\n",
    "\\begin{equation}\n",
    "A X = B,\n",
    "\\end{equation}\n",
    "\n",
    "where $A$ is a matrix describing the Laplace operator, $X$ is the vector of unknowns describing the temperature at the inner mesh points, and $B$ is a vector containing the boundary conditions. This system can be solved analytically or symbolically (for small number of unkowns), or using direct or iterative methods for large number of unkowns.\n",
    "\n",
    "## Solving with Sympy or Scipy\n",
    "\n",
    "Note that to solve the above linear system of equations we can use the iterative methods presented in lesson 4. Here, we explore using linear algebra to solve the system with few mesh points.\n",
    "\n",
    "### Sympy\n",
    "\n",
    "For such a short system, we can use [SymPy](http://www.sympy.org/en/index.html) to inverse the system symbolically.\n",
    "\n",
    "*Note: This may not run on AFIT's system.  If not, the following code can be copied into the SymPy live shell at: http://docs.sympy.org/0.7.2/modules/matrices/matrices.html "
   ]
  },
  {
   "cell_type": "code",
   "execution_count": null,
   "metadata": {},
   "outputs": [],
   "source": [
    "from sympy import *\n",
    "init_printing()  # Pretty printing with sympy\n",
    "\n",
    "# Boundary temperatures\n",
    "Tm1 = 0\n",
    "T3  = 100\n",
    "B = Matrix([[-Tm1], [0], [-T3]])\n",
    "\n",
    "# Matrix to be inverted\n",
    "A = Matrix([[-2, 1, 0],\n",
    "     [1, -2, 1],\n",
    "     [0, 1, -2]])\n",
    "\n",
    "Ainv = Matrix(A)**(-1)\n",
    "Ainv, B"
   ]
  },
  {
   "cell_type": "code",
   "execution_count": null,
   "metadata": {},
   "outputs": [],
   "source": [
    "# Solve the system and get the temperatures\n",
    "Ainv * b"
   ]
  },
  {
   "cell_type": "markdown",
   "metadata": {},
   "source": [
    "### SciPy solution\n",
    "\n",
    "Another option is to use [SciPy's linalg module](https://docs.scipy.org/doc/scipy/reference/linalg.html) for a numerical solution."
   ]
  },
  {
   "cell_type": "code",
   "execution_count": null,
   "metadata": {},
   "outputs": [],
   "source": [
    "import scipy.linalg as linalg\n",
    "\n",
    "A = np.array([[-2, 1, 0],\n",
    "     [1, -2, 1],\n",
    "     [0, 1, -2]])\n",
    "B = np.array([[-Tm1], [0], [-T3]])\n",
    "\n",
    "linalg.solve(A, B)"
   ]
  },
  {
   "cell_type": "code",
   "execution_count": null,
   "metadata": {
    "collapsed": true
   },
   "outputs": [],
   "source": []
  }
 ],
 "metadata": {
  "kernelspec": {
   "display_name": "Python 2",
   "language": "python",
   "name": "python2"
  },
  "language_info": {
   "codemirror_mode": {
    "name": "ipython",
    "version": 2
   },
   "file_extension": ".py",
   "mimetype": "text/x-python",
   "name": "python",
   "nbconvert_exporter": "python",
   "pygments_lexer": "ipython2",
   "version": "2.7.13"
  }
 },
 "nbformat": 4,
 "nbformat_minor": 1
}
