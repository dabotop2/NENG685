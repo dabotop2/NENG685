{
 "cells": [
  {
   "cell_type": "markdown",
   "metadata": {},
   "source": [
    "<h1 align=\"center\"><font color=\"00308F\" size=110>Ordinary and Partial Diferential Equations</font></h1>\n",
    "\n",
    "This notebook supplements the lesson 4 course notes on ODEs and PDEs."
   ]
  },
  {
   "cell_type": "markdown",
   "metadata": {},
   "source": [
    "Let's start by setting up our environment and importing what we need.  "
   ]
  },
  {
   "cell_type": "code",
   "execution_count": null,
   "metadata": {
    "collapsed": true
   },
   "outputs": [],
   "source": [
    "import numpy as np\n",
    "import matplotlib\n",
    "%matplotlib inline"
   ]
  },
  {
   "cell_type": "markdown",
   "metadata": {},
   "source": [
    "# Reminder: Difference between ODEs and PDEs\n",
    "\n",
    "-   ODEs are differential equations containing **a single independent variable** so all the derivatives are ordinary dervatives. For example, given a scalar function $x \\mapsto f(x)$, the first and second derivatives are $f'$ or $f''$.\n",
    "-   PDEs are differential equations containing **two or more independent variables**, so the derivatives are partial derivatives. For example, given a function of two variables $(x,y) \\mapsto f(x,y)$, the partial derivatives with respect to $x$ and $y$ are $\\frac{\\partial f}{\\partial x}$ and $\\frac{\\partial f}{\\partial y}$.\n",
    "\n",
    "# PDE example: Heat (Diffusion) equation\n",
    "\n",
    "The heat equation is a second order PDE describing how temperature $T$ diffuses through a medium of thermal diffusivity $\\alpha$:\n",
    "\n",
    "\\begin{align}\n",
    "&\\text{General:} \\qquad &\\frac{\\partial T}{\\partial t} = D \\nabla^2 T  \\\\\n",
    "&\\text{2D:} \\qquad &\\frac{\\partial T}{\\partial t} = D \\left( \\frac{\\partial^2 T}{\\partial x^2}  + \\frac{\\partial^2 T}{\\partial y^2} \\right)\n",
    "\\end{align}\n",
    "\n",
    "# ODE example: Heat (Diffusion) equation\n",
    "\n",
    "Keep the full PDE in mind, but let's start by simplifying the diffusion equation to 1D and time-independent:\n",
    "\n",
    "$$ -D \\frac{\\partial^2 T}{\\partial x^2} = 0 $$\n",
    "\n",
    "\n",
    "## Review: Solution strategy for 1D diffusion equation\n",
    "\n",
    "\n",
    "### First central difference for first $f'(x)$\n",
    "\n",
    "Our aim with these methods is to replace the differential operator with an approximation which averages over nearby points and by using a mesh of such points we derive a set of simultaneous equations to solve. The trick is to apply Taylor's expansions at points near $f(x)$, such as $f(x-h)$ and $f(x+h)$, and to combine these expansions to obtain an approximation for the desired derivative.\n",
    "\n",
    "Consider the following two Taylor expansions of a function f(x) around x at a (small) distance, h (see e.g. [?1])\n",
    "\n",
    "\\begin{align}\n",
    "f(x + h) = f(x) + h f'(x) + \\frac{h^2}{2!} f''(x) + \\frac{h^3}{3!} f'''(x) + \\frac{h^4}{4!} f^{(4)}(x) + O(h^5), \\\\\n",
    "f(x - h) = f(x) - h f'(x) + \\frac{h^2}{2!} f''(x) - \\frac{h^3}{3!} f'''(x) + \\frac{h^4}{4!} f^{(4)}(x) + O(h^5).\\\\\n",
    "\\end{align}\n",
    "\n",
    "If we substract these two equations we get\n",
    "\n",
    "\\begin{align}\n",
    "f(x + h) - f(x - h) = 2h f'(x) + \\frac{h^3}{3} f'''(x) + O(h^5).\n",
    "\\end{align}\n",
    "\n",
    "Rearranging gives\n",
    "\n",
    "\\begin{align}\n",
    "f'(x) &= \\frac{f(x + h) - f(x - h)}{2h} - \\frac{h^2}{3} f'''(x) + O(h^4), \\\\\n",
    "f'(x) &= \\frac{f(x + h) - f(x - h)}{2h} + O(h^2).\n",
    "\\end{align}\n",
    "\n",
    "This is known as the *first central difference approximation* for the *first* derivative of $x \\mapsto f(x)$. It is accurate to order 2. It was derived by using Taylor's expansion for $f$ at two points around $x$: $x+h$ and $x-h$. These points are symmetric with respect to $x$. It is also possible to use *staggered* finite difference approximations such as the *first forward difference* for the first derivative, that expresses $f'(x)$ in terms of $f(x)$, $f(x + h)$ and $f(x + 2h)$.\n",
    "\n",
    "\n",
    "### First central difference for $f''(x)$\n",
    "\n",
    "It is also possible to obtain finite difference approximations for higher order derivatives. For example, if we add the two Taylor expansions for $f(x+h)$ and $f(x-h)$ instead of subtracting them we get\n",
    "\n",
    "\\begin{align}\n",
    "f(x + h) + f(x - h) = 2 f(x) + h^2 f''(x) + O(h^4).\n",
    "\\end{align}\n",
    "\n",
    "Rearranging yields\n",
    "\n",
    "\\begin{align}\n",
    "f''(x) = \\frac{f(x-h) - 2 f(x) + f(x + h)}{h^2} + O(h^2).\n",
    "\\end{align}\n",
    "\n",
    "This is known as the *first central difference approximation* for the *second* derivative of $f(x)$.  The detailed derivation is included in the lesson 3 course notes.\n",
    "\n",
    "### General central finite difference for $f^{(n)}(x)$\n",
    "\n",
    "It is possible to derive these for higher order derivatives to various order of accuracy. A general central difference approximation for $f^{(n)}(x)$ can be written in the form\n",
    "\n",
    "\\begin{equation}\n",
    "f^{(n)}(x) = \\sum_{i=-m}^m  c_i f(x + i h),\n",
    "\\end{equation}\n",
    "\n",
    "where $(c_i)_{-m \\leq i \\leq m}$ define the [*coefficients*](https://en.wikipedia.org/wiki/Finite_difference_coefficient) of the finite difference. The points $(x+ih)_{-m\\leq i \\leq m}$ are called the *nodes* of the finite difference."
   ]
  },
  {
   "cell_type": "markdown",
   "metadata": {},
   "source": [
    "## Bringing it all together: Numerical PDE Solution for Diffusion Equation\n",
    "\n",
    "Let's solve the 1-D time-dependent heat equation given by:\n",
    "\n",
    "$$ \\frac{\\partial T}{\\partial t} - D \\frac{\\partial^2 T}{\\partial x^2} = 0$$\n",
    "\n",
    "Using the central difference approximation of the first and second derivative from above, we get:\n",
    "\n",
    "$$ \\frac{T(t + \\Delta t) - T(t)}{\\Delta t} - D \\frac{T(x + \\Delta x)-2T(x)+T(x - \\Delta x)}{\\Delta x^2} = 0$$\n",
    "\n",
    "Rearranging,\n",
    "\n",
    "$$ T(t + \\Delta t) - T(t) - D \\frac{\\Delta t}{\\Delta x^2} \\left(T(x + \\Delta x)-2T(x)+T(x - \\Delta x) \\right) = 0$$\n",
    "\n",
    "We can replace $D \\frac{\\Delta t}{\\Delta x^2}$ with s, the diffusion number, to get:\n",
    "\n",
    "$$ T(t + \\Delta t) - T(t) - s \\left(T(x + \\Delta x)-2T(x)+T(x - \\Delta x) \\right) = 0$$\n",
    "\n",
    "### FTCS explicit scheme and analytic solution\n",
    "\n",
    "If we use $n$ to refer to indices in time and $j$ to refer to indices in space, the above equation can be written as\n",
    "\n",
    "$$ T[n + 1, j] = T[n, j] + s \\left(T[n, j+1]-2T[n, j]+T[n, j-1] \\right) = 0$$\n",
    "\n",
    "This is called a forward-in-time, centered-in-space (FTCS) scheme. Its ‘footprint’ looks like this:"
   ]
  },
  {
   "cell_type": "code",
   "execution_count": null,
   "metadata": {},
   "outputs": [],
   "source": [
    "plt.figure(figsize=(6,3))\n",
    "plt.plot([0,2],[0,0],'k')\n",
    "plt.plot([1,1],[0,1],'k')\n",
    "plt.plot([0,1,2,1],[0,0,0,1],'ko',markersize=10)\n",
    "plt.text(1.1,0.1,'T[n,j]')\n",
    "plt.text(0.1,0.1,'T[n,j-1]')\n",
    "plt.text(1.1,1.1,'T[n+1,j]')\n",
    "plt.text(2.1,0.1,'T[n,j+1]')\n",
    "plt.xlabel('space')\n",
    "plt.ylabel('time')\n",
    "plt.axis('equal')\n",
    "plt.yticks([0.0,1.0],[])\n",
    "plt.xticks([0.0,1.0],[])\n",
    "plt.title('FTCS explicit scheme',fontsize=12)\n",
    "plt.axis([-0.5,2.5,-0.5,1.5]);"
   ]
  },
  {
   "cell_type": "markdown",
   "metadata": {},
   "source": [
    "Let's assume a 5 cm pipe with one end at 100 degrees Celsius.  The relevant constants have been defined below for you."
   ]
  },
  {
   "cell_type": "code",
   "execution_count": null,
   "metadata": {
    "collapsed": true
   },
   "outputs": [],
   "source": [
    "# Relevant constand and initial values\n",
    "dt = 0.0005 # grid size for time (s)\n",
    "dx = 0.0005 # grid size for space (m)\n",
    "D = 1.27*10**(-4) # thermal diffusivity of gold (m2/s)\n",
    "x_max = 0.05 # in m\n",
    "t_max = 5 # total time in s\n",
    "T0 = 100 # Temp in Celsius"
   ]
  },
  {
   "cell_type": "markdown",
   "metadata": {},
   "source": [
    "Now, using a FTCS scheme, write a function that can solve the diffusion equation:"
   ]
  },
  {
   "cell_type": "code",
   "execution_count": null,
   "metadata": {},
   "outputs": [],
   "source": [
    "# function to calculate velocity profiles based on a \n",
    "# finite difference approximation to the 1D diffusion \n",
    "# equation and the FTCS scheme:\n",
    "def diffusion_FTCS(dt, dx, t_max, x_max, D, T0):\n",
    "    \n",
    "    #! Compute the diffusion number\n",
    "    \n",
    "    \n",
    "    #! Create sample points in space and time\n",
    "    \n",
    "    \n",
    "    #! Create a matrix to store the solution\n",
    "    \n",
    "    \n",
    "    #! Set initial values of the matrix\n",
    "    \n",
    "    \n",
    "    #! Implement FTCS scheme\n",
    "\n",
    "    \n",
    "# Determine the numerical FTCS solution\n",
    "x, T, r, s = diffusion_FTCS(dt, dx, t_max, x_max, D, T0)\n",
    "\n",
    "# plotting:\n",
    "plt.figure(figsize=(7,5))\n",
    "plot_times = np.arange(0.01,5.0,0.2)\n",
    "for t in plot_times:\n",
    "    plt.plot(x , T[int(t/dt),:], 'Gray', label='numerical')\n",
    "    if t==0.2:\n",
    "        plt.legend(fontsize=12)\n",
    "plt.xlabel('Distance from end of pipe (m)',fontsize=12)\n",
    "plt.ylabel('Temperature [C]]',fontsize=12)\n",
    "plt.axis([0, x_max, 0, T0])\n",
    "plt.title('Explicit numerical (FTCS scheme) solution');"
   ]
  },
  {
   "cell_type": "markdown",
   "metadata": {},
   "source": [
    "For this function, we have an analytic solution as well given by:\n",
    "\n",
    "$$ T = T_0 \\left( \\sum^{\\infty}_{n=0} erfc(2n \\eta_1 + \\eta) - \\sum^{\\infty}_{n=0} erfc(2(n+1)\\eta_1 + \\eta) \\right) $$\n",
    "\n",
    "where\n",
    "\n",
    "$\\eta=\\frac{x}{2\\sqrt{D t}}$ <br\\>\n",
    "$\\eta_1=\\frac{h}{2\\sqrt{D t}}$"
   ]
  },
  {
   "cell_type": "code",
   "execution_count": null,
   "metadata": {},
   "outputs": [],
   "source": [
    "from scipy.special import erfc\n",
    "from math import sqrt\n",
    " \n",
    "# Function to calculate velocity profiles using the analytic solution:\n",
    "def diffusion_analytic(t, h, T0, dx, D):\n",
    "    \n",
    "    #! Add Code to compute the analytic solution\n",
    "    \n",
    " \n",
    "# plotting:\n",
    "plt.figure(figsize=(7,5))\n",
    "plot_times = np.arange(0.01,5.0,0.5)\n",
    "for t in plot_times:\n",
    "    plt.plot(x , T[int(t/dt),:], 'Gray', label='numerical')\n",
    "    T_analytic = diffusion_analytic(t, x_max, T0, dx, D)\n",
    "    plt.plot(x, T_analytic,'ok',label='analytic',\n",
    "        markersize=3)\n",
    "    if t==0.2:\n",
    "        plt.legend(fontsize=12)\n",
    "plt.xlabel('Distance from end of pipe [m]',fontsize=12)\n",
    "plt.ylabel('Temperature [C]',fontsize=12)\n",
    "plt.axis([0, x_max, 0, T0])\n",
    "plt.title('Comparison between explicit numerical \\n solution and analytic solution');\n"
   ]
  },
  {
   "cell_type": "markdown",
   "metadata": {},
   "source": [
    "<fig04-04.pdf>\n",
    "\n"
   ]
  },
  {
   "cell_type": "markdown",
   "metadata": {},
   "source": [
    "The dots (analytic solution) overlap pretty well with the lines (numerical solution). However, this would not be the case if we changed the discretization so that the diffusion number was larger. Let’s look at the stability of the FTCS numerical scheme, by computing the solution with different diffusion numbers. It turns out that the diffusion number s has to be less than 0.5 for the FTCS scheme to remain stable."
   ]
  },
  {
   "cell_type": "code",
   "execution_count": null,
   "metadata": {},
   "outputs": [],
   "source": [
    "dt = 0.0005 # grid size for time (m)\n",
    "dx = 0.0005 # grid size for space (s)\n",
    "x, T, r, s = diffusion_FTCS(dt, dx, t_max, x_max, D, T0)\n",
    "T_analytic = diffusion_analytic(0.5, x_max, T0, dx, D)\n",
    "plt.figure(figsize=(7,5))\n",
    "plt.plot(x, T_analytic-T[int(0.5/dt)],'--k',label='small s')\n",
    " \n",
    "dx = 0.0010\n",
    "dt = 0.00254\n",
    "x, T, r, s = diffusion_FTCS(dt, dx, t_max, x_max, D, T0)\n",
    "T_analytic = diffusion_analytic(0.5, x_max, T0, dx, D)\n",
    "T_numeric = T[r/2-1,:]\n",
    " \n",
    "plt.plot(x, T_analytic-T_numeric,'k',label='large s')\n",
    "plt.xlabel('Distance from end of pipe [m]',fontsize=12)\n",
    "plt.ylabel('Temperature difference [C]',fontsize=12)\n",
    "plt.title('Difference between numerical and analytic \\n solutions for different \\'s\\' values',fontsize=14)\n",
    "plt.axis([0, x_max, -100, 100])\n",
    "plt.legend();"
   ]
  },
  {
   "cell_type": "markdown",
   "metadata": {},
   "source": [
    "## Example using SCIPY: Radioactive Decay\n",
    "\n",
    "The number of atoms left in a radioactive sample is given by:\n",
    "\n",
    "$$ \\frac{dN}{dt} = -\\lambda N(t) $$\n",
    "\n",
    "This is a linear, first order ODE.  The analytic solution is given as\n",
    "\n",
    "$$N(t) = N_0e^{-\\lambda t} $$\n",
    "\n",
    "Let's compare [SciPy's odeint solver](https://docs.scipy.org/doc/scipy-0.19.1/reference/generated/scipy.integrate.odeint.html) to the analytic solution."
   ]
  },
  {
   "cell_type": "code",
   "execution_count": null,
   "metadata": {},
   "outputs": [],
   "source": [
    "#! Define the radioactive decay function\n",
    "\n",
    "\n",
    "# Define a 10 second half-life\n",
    "lam = np.log(2)/10.\n",
    "\n",
    "# Start with 100 atoms\n",
    "N0 = 100.\n",
    "\n",
    "#! Create a solution grid in time\n",
    "\n",
    "\n",
    "#! Use ODEINT to solve\n",
    "\n",
    "\n",
    "#! Plot\n"
   ]
  },
  {
   "cell_type": "markdown",
   "metadata": {},
   "source": [
    "Now let's calculate the analytic solution and compare the difference. "
   ]
  },
  {
   "cell_type": "code",
   "execution_count": null,
   "metadata": {},
   "outputs": [],
   "source": [
    "# Analytic Solution\n",
    "def decay_analytic(N0, lam, t):\n",
    "    return N0*np.exp(-lam*t)\n",
    "\n",
    "# Calculate the exact solution and difference\n",
    "N_analytic = decay_analytic(N0, lam, t)\n",
    "N_diff = np.abs(np.reshape(N,len(N)) - N_analytic)\n",
    "\n",
    "# Plot the differences\n",
    "plt.semilogy(t, N_diff)\n",
    "plt.ylabel(\"Error\")\n",
    "plt.xlabel(\"Time [s]\")\n",
    "plt.title(\"Error in numerical solution\");"
   ]
  },
  {
   "cell_type": "code",
   "execution_count": null,
   "metadata": {
    "collapsed": true
   },
   "outputs": [],
   "source": []
  }
 ],
 "metadata": {
  "kernelspec": {
   "display_name": "Python 2",
   "language": "python",
   "name": "python2"
  },
  "language_info": {
   "codemirror_mode": {
    "name": "ipython",
    "version": 2
   },
   "file_extension": ".py",
   "mimetype": "text/x-python",
   "name": "python",
   "nbconvert_exporter": "python",
   "pygments_lexer": "ipython2",
   "version": "2.7.13"
  }
 },
 "nbformat": 4,
 "nbformat_minor": 1
}
