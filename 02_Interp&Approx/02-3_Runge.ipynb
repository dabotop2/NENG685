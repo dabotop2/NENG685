{
 "cells": [
  {
   "cell_type": "markdown",
   "metadata": {},
   "source": [
    "# Runge Phenomenon"
   ]
  },
  {
   "cell_type": "markdown",
   "metadata": {},
   "source": [
    "Consider interpolating the following function on $[-1,1]$\n",
    "$$\n",
    "f(x) = \\frac{1}{1 + 16 x^2}\n",
    "$$\n",
    "We will try uniformly spaced points and [Chebyshev points](http://pages.cs.wisc.edu/~amos/412/lecture-notes/lecture10.pdf)."
   ]
  },
  {
   "cell_type": "code",
   "execution_count": null,
   "metadata": {
    "collapsed": true
   },
   "outputs": [],
   "source": [
    "from numpy import exp, linspace, polyfit, polyval, cos, pi\n",
    "from matplotlib.pyplot import figure, plot, legend, axis, text, subplot\n",
    "%matplotlib inline"
   ]
  },
  {
   "cell_type": "markdown",
   "metadata": {},
   "source": [
    "Let us first plot the function."
   ]
  },
  {
   "cell_type": "code",
   "execution_count": null,
   "metadata": {
    "collapsed": true
   },
   "outputs": [],
   "source": [
    "xmin, xmax = -1.0, +1.0\n",
    "\n",
    "#! Create a function using the a lambda function \n",
    "\n",
    "#! Plot the function"
   ]
  },
  {
   "cell_type": "markdown",
   "metadata": {},
   "source": [
    "Let's define an interpolating function that can take a function and a set of points"
   ]
  },
  {
   "cell_type": "code",
   "execution_count": null,
   "metadata": {
    "collapsed": true
   },
   "outputs": [],
   "source": [
    "def interp(f,points):\n",
    "    xe = linspace(xmin,xmax,100,True);   #NOTE: Where are xmin and xmax define?  Can you take this function into a module as is?\n",
    "    ye = f(xe);\n",
    "\n",
    "    figure(figsize=(10,8))\n",
    "    # Set up 6 subplots showing n=2 to n=7\n",
    "    for i in range(1,7):\n",
    "        N = 2*i\n",
    "        subplot(3,2,i)\n",
    "        \n",
    "        # Allow user to specify 'uniform' or something else\n",
    "        if points == 'uniform':\n",
    "            x = linspace(xmin,xmax,N+1,True)\n",
    "        #! This is terrible behavior - how could you modify this conditional to catch when someone inputs something that\n",
    "        #! isn't an intended behavior?  Do so here:\n",
    "        else:\n",
    "            theta = linspace(0,pi,N+1, True)\n",
    "            x = cos(theta) # Chebyshev nodes\n",
    "        \n",
    "        y = f(x);\n",
    "        P = polyfit(x,y,N);\n",
    "        yi = polyval(P,xe);\n",
    "        plot(x,y,'o',xe,ye,'--',xe,yi)\n",
    "        axis([xmin, xmax, -1.0, +1.1])\n",
    "        text(-0.1,0.0,'N = '+str(N))"
   ]
  },
  {
   "cell_type": "markdown",
   "metadata": {},
   "source": [
    "Interpolate $f(x)$ on uniformly spaced points."
   ]
  },
  {
   "cell_type": "code",
   "execution_count": null,
   "metadata": {
    "collapsed": true
   },
   "outputs": [],
   "source": []
  },
  {
   "cell_type": "markdown",
   "metadata": {},
   "source": [
    "This is not so good, especially at the ends of the interval.  What about interpolating $f(x)$ on Chebyshev points?"
   ]
  },
  {
   "cell_type": "code",
   "execution_count": null,
   "metadata": {
    "collapsed": true
   },
   "outputs": [],
   "source": []
  },
  {
   "cell_type": "code",
   "execution_count": null,
   "metadata": {
    "collapsed": true
   },
   "outputs": [],
   "source": []
  }
 ],
 "metadata": {
  "kernelspec": {
   "display_name": "Python 2",
   "language": "python",
   "name": "python2"
  },
  "language_info": {
   "codemirror_mode": {
    "name": "ipython",
    "version": 2
   },
   "file_extension": ".py",
   "mimetype": "text/x-python",
   "name": "python",
   "nbconvert_exporter": "python",
   "pygments_lexer": "ipython2",
   "version": "2.7.13"
  }
 },
 "nbformat": 4,
 "nbformat_minor": 1
}
