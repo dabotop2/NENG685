{
 "cells": [
  {
   "cell_type": "markdown",
   "metadata": {},
   "source": [
    "# Lagrange Interpolating Polynomials"
   ]
  },
  {
   "cell_type": "markdown",
   "metadata": {},
   "source": [
    "## Manual Definitions"
   ]
  },
  {
   "cell_type": "markdown",
   "metadata": {},
   "source": [
    "A simple illustration of Interpolation with [Lagrange polynomials](http://mathworld.wolfram.com/LagrangeInterpolatingPolynomial.html):\n",
    "\n",
    "$$\n",
    "L_k(x) = \\prod_{i=0, i \\neq k}^n \\frac{\\left(x-x_i\\right)}{\\left(x_k-x_i\\right)}\n",
    "$$\n",
    "<br>\n",
    "\n",
    "Let's choose $n=2$ and define our Lagrange polynomials both explicitly for a set of fixed values, [2.0, 2.5, 4.0]:\n",
    "\n",
    "$$\n",
    "L_0(x) = \\frac{(x - 2.5)(x - 4.0)}{(2.0 - 2.5)(2.0 - 4.0)} = x^2 - 6.5x + 10 \\\\\n",
    "L_1(x) = \\frac{(x - 2.0)(x - 4.0)}{(2.5 - 2.0)(2.5 - 4.0)} = \\frac{-4x^2 + 24x - 32}{3} \\\\\n",
    "L_2(x) = \\frac{(x - 2.0)(x - 2.5)}{(4.0 - 2.0)(4.0 - 2.5)} = \\frac{x^2 - 4.5x + 5}{3} \\\\\n",
    "$$\n",
    "\n",
    "Let's code up a generic function to compute $L_k$ given a set of fixed values and a desired set of evaluation points:"
   ]
  },
  {
   "cell_type": "code",
   "execution_count": null,
   "metadata": {
    "collapsed": true
   },
   "outputs": [],
   "source": [
    "import numpy as np\n",
    "\n",
    "# k is the index of the lagrange polynomial\n",
    "# pts are the locations where we have fixed values\n",
    "# x is the point at which we're evaluating the polynomial\n",
    "def L(k, pts, x):\n",
    "    \n",
    "    #! Fill this in\n",
    "    \n",
    "    return prod"
   ]
  },
  {
   "cell_type": "markdown",
   "metadata": {},
   "source": [
    "To combine the polynomials and actually compute an approximation, we use the formula:\n",
    "\n",
    "$$\n",
    "P(x) = \\sum_{k=0}^2 f(x_k)L_k(x) \\\\\n",
    "$$\n",
    "\n",
    "First, we need to define a function to approximate and the three points at which to approximate it."
   ]
  },
  {
   "cell_type": "code",
   "execution_count": null,
   "metadata": {
    "collapsed": true
   },
   "outputs": [],
   "source": [
    "# use 1/x\n",
    "def f(x):\n",
    "    return 1.0/x\n",
    "\n",
    "#! Define numpy array of 3 point of your choosing \n"
   ]
  },
  {
   "cell_type": "markdown",
   "metadata": {},
   "source": [
    "Now, let's compute and look at each polynomial over $[0, 6]$."
   ]
  },
  {
   "cell_type": "code",
   "execution_count": null,
   "metadata": {
    "collapsed": true
   },
   "outputs": [],
   "source": [
    "import numpy as np\n",
    "\n",
    "#! Get a bunch of points at which to evaluate the polynomials\n",
    "\n",
    "#! Get each lagrange polynomial (for n=2 case)\n"
   ]
  },
  {
   "cell_type": "markdown",
   "metadata": {},
   "source": [
    "Plot all three polynomials separately."
   ]
  },
  {
   "cell_type": "code",
   "execution_count": null,
   "metadata": {
    "collapsed": true
   },
   "outputs": [],
   "source": [
    "%matplotlib inline\n",
    "import matplotlib.pyplot as plt\n",
    "\n",
    "#! Plot all three polynomials with a legend and added axis labels"
   ]
  },
  {
   "cell_type": "markdown",
   "metadata": {},
   "source": [
    "Now let's combine the polynomials, plot the output, and compare to $f(x)$ itself. "
   ]
  },
  {
   "cell_type": "code",
   "execution_count": null,
   "metadata": {
    "collapsed": true
   },
   "outputs": [],
   "source": [
    "#! Take the function evaluated at each of our chosen locations and multiply by our computed polynomials\n",
    "\n",
    "\n",
    "# This is just the function evaluation for all considered values and the known points\n",
    "F = f(x)\n",
    "f_vals = f(x_points)\n",
    "\n",
    "#! Plot the combined polynomial, the interpolated function, and the three chosen points.  Include a legend and the axis labels"
   ]
  },
  {
   "cell_type": "markdown",
   "metadata": {},
   "source": [
    "## Using SciPy"
   ]
  },
  {
   "cell_type": "markdown",
   "metadata": {},
   "source": [
    "But isn't Python supposed to be super useful? Can't we just do all of that in Python?\n",
    "\n",
    "YES, we can. SciPy () has a Lagrange polynomial interpolation function."
   ]
  },
  {
   "cell_type": "code",
   "execution_count": null,
   "metadata": {
    "collapsed": true
   },
   "outputs": [],
   "source": [
    "import scipy.interpolate as interp\n",
    "\n",
    "# evaulate the function at our chosen 3 points\n",
    "f_vals = f(x_points)\n",
    "\n",
    "#! Get the interpolating polynomial using the scipy built in\n",
    "\n",
    "#! Evaluate the polynomial at our many x locations to get a smooth line\n",
    "\n",
    "#! Plot the comparison of the polynomial, he interpolated function, and the three chosen points.  \n",
    "#! Include a legend and the axis labels\n"
   ]
  },
  {
   "cell_type": "markdown",
   "metadata": {},
   "source": [
    "## Unknown Functions"
   ]
  },
  {
   "cell_type": "markdown",
   "metadata": {},
   "source": [
    "Ideally we'd like to be able to approximate data for which we don't already know the function. What might that look like?"
   ]
  },
  {
   "cell_type": "code",
   "execution_count": null,
   "metadata": {
    "collapsed": true
   },
   "outputs": [],
   "source": [
    "# We've got 6 points where we'll look (meaning n=5)\n",
    "x2_points = np.arange(1,7)\n",
    "\n",
    "# our function evaluations (data)\n",
    "f2_vals = [16, 18, 21, 17, 15, 12]\n",
    "\n",
    "# and we'll evaluate our end polynomial at these many points\n",
    "x = np.arange(0.75, 6.30, 0.05)\n",
    "\n",
    "#! Construct a loop to compute the polynomial at the points of interest. \n",
    "\n",
    "#! Plot the polynomial interpolation along with the known points.  Include a legend and axes labels.\n"
   ]
  },
  {
   "cell_type": "code",
   "execution_count": null,
   "metadata": {
    "collapsed": true
   },
   "outputs": [],
   "source": []
  }
 ],
 "metadata": {
  "kernelspec": {
   "display_name": "Python 2",
   "language": "python",
   "name": "python2"
  },
  "language_info": {
   "codemirror_mode": {
    "name": "ipython",
    "version": 2
   },
   "file_extension": ".py",
   "mimetype": "text/x-python",
   "name": "python",
   "nbconvert_exporter": "python",
   "pygments_lexer": "ipython2",
   "version": "2.7.13"
  }
 },
 "nbformat": 4,
 "nbformat_minor": 1
}
