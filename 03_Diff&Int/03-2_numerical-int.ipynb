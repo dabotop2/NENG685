{
 "cells": [
  {
   "cell_type": "markdown",
   "metadata": {},
   "source": [
    "<h1 align=\"center\"><font color=\"00308F\" size=110>Numerical Integration: Simpson's Method</font></h1>"
   ]
  },
  {
   "cell_type": "code",
   "execution_count": null,
   "metadata": {},
   "outputs": [],
   "source": [
    "%pylab inline\n",
    "import numpy as np"
   ]
  },
  {
   "cell_type": "markdown",
   "metadata": {},
   "source": [
    "# Using Simpson's method to approximate integrals\n",
    "\n",
    "The material in this notebook is a supplement to lesson 3 course notes."
   ]
  },
  {
   "cell_type": "markdown",
   "metadata": {},
   "source": [
    "Suppose that you're given a table of values of some data for a (fake) waveform trace:"
   ]
  },
  {
   "cell_type": "code",
   "execution_count": null,
   "metadata": {},
   "outputs": [],
   "source": [
    "x_values = (0, 2, 4, 6, 8, 10, 12, 14, 16, 18, 20, 22, 24, 26, 28, 30, 32, 34, 36, 38, 40, 42, 44)\n",
    "y_values = (0, 15, 17, 15, 13, 11.5, 10, 8.5, 7.5, 6.5, 5.5, 4.5, 4, 3.5, 3, 2.5, 2, 1.75, 1.5, 1.25, 1.0, 0.75, 0.5)\n",
    "plt.plot(x_values,y_values,'-o')\n",
    "plt.xlabel('Time [ns]')\n",
    "plt.ylabel('Charge [$\\mu$C]')"
   ]
  },
  {
   "cell_type": "markdown",
   "metadata": {},
   "source": [
    "Recall from the notes that Simpson's rule was given by\n",
    "\n",
    "$$I_2(f) = \\frac{h}{3}\\bigl(f(x_0) + 4f(x_1) + f(x_2)\\bigr),$$\n",
    "\n",
    "    where \n",
    " \n",
    "$ h = \\frac{(b-a)}{2}.$\n",
    "\n",
    "\n",
    "Let's write a function to calculate the integral according to Simpson's:"
   ]
  },
  {
   "cell_type": "code",
   "execution_count": null,
   "metadata": {
    "collapsed": true
   },
   "outputs": [],
   "source": [
    "def simpsons(xData, yData):\n",
    "    integral = 0\n",
    "    \n",
    "    #! Write code for simpson's method using tabular data\n",
    "    \n",
    "    \n",
    "    return integral"
   ]
  },
  {
   "cell_type": "markdown",
   "metadata": {},
   "source": [
    "Let's call our Simpson's function to integrate the waveform:"
   ]
  },
  {
   "cell_type": "code",
   "execution_count": null,
   "metadata": {},
   "outputs": [],
   "source": [
    "#! Call simpsons to integrata the waveform data and print the output\n"
   ]
  },
  {
   "cell_type": "markdown",
   "metadata": {},
   "source": [
    "## Estimating truncation errors"
   ]
  },
  {
   "cell_type": "markdown",
   "metadata": {},
   "source": [
    "From the notes, recall that we can use Lagrange Polynomials to express the error associated with numerical integration.  Skipping the math, the end result for Simpson's method is:\n",
    "\n",
    "$$I(f) - I_2(f)=\\frac{-f^{(4)}(\\eta)}{90}h^5$$\n",
    "\n",
    "where $ f^{(4)}$ is given by first-order forward difference to be\n",
    "\n",
    "$$ f^{(4)} \\approx \\frac{f_0-4f_1+6f_2-4f_3+f_4}{h^4}$$\n",
    "\n",
    "and by second-order central difference to be\n",
    "\n",
    "$$ f^{(4)} \\approx \\frac{f_2-4f_1+6f_0-4f_{-1}+f_{-2}}{h^4}.$$\n",
    "\n",
    "Modify the Simpson's function to report the integral and the associated error assuming at $f^{(4)}_0$ is a good approximation for $f^{(4)}(\\eta)$:"
   ]
  },
  {
   "cell_type": "code",
   "execution_count": null,
   "metadata": {
    "collapsed": true
   },
   "outputs": [],
   "source": [
    "def simpsons(xData, yData):\n",
    "    integral = 0\n",
    "    error = 0\n",
    "    \n",
    "    # Define funtions within simpsons function for computing 4th differential\n",
    "    def forward_4diff(y, h):\n",
    "        dx = (3*y[0]-4*y[1]+6*y[2]-4*y[3]+y[4])/(h**4)\n",
    "        return dx\n",
    "    def central_4diff(y, h):\n",
    "        dx = (y[4]-4*y[3]+6*y[2]-4*y[1]+y[0])/(h**4)\n",
    "        return dx\n",
    "    \n",
    "    # Simpson's method\n",
    "    for i in range(0, len(yData)-2, 2):\n",
    "        h = (xData[i+2]-xData[i])/2.\n",
    "        integral = integral + h/3.*(yData[i]+4*yData[i+1]+yData[i+2])\n",
    "        \n",
    "        #! Add the ability to return error associated with the integral\n",
    "        \n",
    "            \n",
    "    return integral, -error/90.*(h)**5"
   ]
  },
  {
   "cell_type": "code",
   "execution_count": null,
   "metadata": {},
   "outputs": [],
   "source": [
    "#! Call simpsons to integrata the waveform data and print the output\n"
   ]
  },
  {
   "cell_type": "markdown",
   "metadata": {},
   "source": [
    "## Integration with Scipy\n",
    "\n",
    "Broken record at this point - there are powerful options that can handle these tasks for you.  For this, let's look at the [simps](https://docs.scipy.org/doc/scipy-0.14.0/reference/generated/scipy.integrate.simps.html) method in scipy.  \n",
    "\n",
    "** NOTE:** The [quad](https://docs.scipy.org/doc/scipy-0.18.1/reference/generated/scipy.integrate.quad.html) method is highly useful if you have the functional form instead of tabular data. "
   ]
  },
  {
   "cell_type": "code",
   "execution_count": null,
   "metadata": {},
   "outputs": [],
   "source": [
    "from scipy.integrate import simps\n",
    "\n",
    "#! Call simps to integrata the waveform data and print the output"
   ]
  },
  {
   "cell_type": "markdown",
   "metadata": {},
   "source": [
    "Now, the data above was carefully selected to have an odd number of data points so that there were an even number of interval $(N-1)$, as required by Simpson's.  \n",
    "\n",
    "Having an even number of data points would be an edge case.  Did your Simpson's method above have a catch for that?  \n",
    "\n",
    "Fortunately, the SciPy developers are all over it.  Let's change our data to look like this:"
   ]
  },
  {
   "cell_type": "code",
   "execution_count": null,
   "metadata": {},
   "outputs": [],
   "source": [
    "x_values = (0, 2, 4, 6, 8, 10, 12, 14, 16, 18, 20, 22, 24, 26, 28, 30, 32, 34, 36, 38, 40, 42, 44, 46)\n",
    "y_values = (0, 8, 15, 17, 15, 13, 11.5, 10, 8.5, 7.5, 6.5, 5.5, 4.5, 4, 3.5, 3, 2.5, 2, 1.75, 1.5, 1.25, 1.0, 0.75, 0.5)\n",
    "plt.plot(x_values,y_values,'-o')\n",
    "plt.xlabel('Time [ns]')\n",
    "plt.ylabel('Charge [$\\mu$C]')"
   ]
  },
  {
   "cell_type": "markdown",
   "metadata": {},
   "source": [
    "Now, using SciPuy's 'simps' method, explore the difference in the results based on how the edge case of even data points is handled:"
   ]
  },
  {
   "cell_type": "code",
   "execution_count": null,
   "metadata": {},
   "outputs": [],
   "source": [
    "#! Compare the results using the different options for the even argueent\n"
   ]
  },
  {
   "cell_type": "markdown",
   "metadata": {},
   "source": [
    "Why might you use one over the other?"
   ]
  },
  {
   "cell_type": "markdown",
   "metadata": {
    "collapsed": true
   },
   "source": [
    "**NOTE:  There are python packages [sympy](http://www.sympy.org/en/index.html) that can handle symbolic integration and differentiation. As of 4 October, 2017, these are not available on AFIT's computers. ** "
   ]
  },
  {
   "cell_type": "code",
   "execution_count": null,
   "metadata": {},
   "outputs": [],
   "source": [
    "from IPython.display import YouTubeVideo\n",
    "\n",
    "YouTubeVideo('cvHyaE_bs8s')"
   ]
  },
  {
   "cell_type": "code",
   "execution_count": null,
   "metadata": {
    "collapsed": true
   },
   "outputs": [],
   "source": []
  }
 ],
 "metadata": {
  "kernelspec": {
   "display_name": "Python 2",
   "language": "python",
   "name": "python2"
  },
  "language_info": {
   "codemirror_mode": {
    "name": "ipython",
    "version": 2
   },
   "file_extension": ".py",
   "mimetype": "text/x-python",
   "name": "python",
   "nbconvert_exporter": "python",
   "pygments_lexer": "ipython2",
   "version": "2.7.13"
  }
 },
 "nbformat": 4,
 "nbformat_minor": 1
}
