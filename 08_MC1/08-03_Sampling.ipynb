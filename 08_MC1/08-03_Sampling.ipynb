{
 "cells": [
  {
   "cell_type": "markdown",
   "metadata": {},
   "source": [
    "#### <h1 align=\"center\"><font color=\"00308F\" size=110>Sampling Techniques</font></h1>\n",
    "\n",
    "This notebook supplements the lesson 8 course notes on Monte Carlo."
   ]
  },
  {
   "cell_type": "markdown",
   "metadata": {},
   "source": [
    "Let's start by setting up our environment and importing what we need.  "
   ]
  },
  {
   "cell_type": "code",
   "execution_count": null,
   "metadata": {
    "collapsed": true
   },
   "outputs": [],
   "source": [
    "import numpy as np\n",
    "import matplotlib.pyplot as plt\n",
    "%matplotlib inline"
   ]
  },
  {
   "cell_type": "markdown",
   "metadata": {
    "collapsed": true
   },
   "source": [
    "# Random Sampling\n",
    "Random sampling uses *uniformly distributed random variables* to choose a value for a variable according to its PDF.  \n",
    "The implementations can vary based on the form of the data and the physics process being modeled.\n",
    "Some sampling techniques are\n",
    "\n",
    " - Direct discrete sampling\n",
    " - Continuous discrete sampling\n",
    " - Rejection sampling\n",
    " - Histogram\n",
    " - Piecewise linear\n",
    " - Alias sampling\n",
    " - Advanced continuous PDFs\n",
    "\n",
    "Each of these will be explored in more detail.\n",
    "\n",
    "**NOte:** The standard notation used here is:\n",
    "  - Single random variable: $\\xi$\n",
    "  - Pair of random variables: $(\\xi, \\eta)$"
   ]
  },
  {
   "cell_type": "markdown",
   "metadata": {},
   "source": [
    "## Continuous Uniformly-Distributed Random Variable\n",
    "\n",
    "A uniform random variable is defined as\n",
    "\n",
    "\\begin{align*}\n",
    "  p(\\xi) = \\begin{cases} \n",
    "  1 & 0 \\leq \\xi < 1 \\\\ \n",
    "  0 & \\text{ otherwise} \n",
    "  \\end{cases}\n",
    "\\end{align*}\n",
    "\n",
    "Write a function to sample a uniform random variable that has a range of values from $x$ to $y$ (i.e. $x$ and $y$ can be any two integers so long as $y > x$). "
   ]
  },
  {
   "cell_type": "code",
   "execution_count": null,
   "metadata": {
    "collapsed": true
   },
   "outputs": [],
   "source": [
    "#! Sampling function\n",
    "\n",
    "#! Test your function"
   ]
  },
  {
   "cell_type": "markdown",
   "metadata": {},
   "source": [
    "## Direct Discrete Sampling\n",
    "\n",
    "Sampling Procedure:\n",
    "\n",
    " - Generate $\\xi$\n",
    " - Determine $k$ such that $P_{k-1} \\leq \\xi \\leq P_k$\n",
    " - $x = x_k$"
   ]
  },
  {
   "cell_type": "code",
   "execution_count": null,
   "metadata": {},
   "outputs": [],
   "source": [
    "gammas = {200: 0.2, 350: 0.25, 500: 0.15, 668: 0.35, 1425: 0.05}\n",
    "\n",
    "print gammas[200]\n",
    "\n",
    "#! Define a discrete sampling function\n",
    "        \n",
    "#! Test your discrete function"
   ]
  },
  {
   "cell_type": "code",
   "execution_count": null,
   "metadata": {
    "collapsed": true
   },
   "outputs": [],
   "source": []
  }
 ],
 "metadata": {
  "kernelspec": {
   "display_name": "Python 2",
   "language": "python",
   "name": "python2"
  },
  "language_info": {
   "codemirror_mode": {
    "name": "ipython",
    "version": 2
   },
   "file_extension": ".py",
   "mimetype": "text/x-python",
   "name": "python",
   "nbconvert_exporter": "python",
   "pygments_lexer": "ipython2",
   "version": "2.7.13"
  }
 },
 "nbformat": 4,
 "nbformat_minor": 1
}
