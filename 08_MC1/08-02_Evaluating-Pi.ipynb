{
 "cells": [
  {
   "cell_type": "markdown",
   "metadata": {},
   "source": [
    "#### <h1 align=\"center\"><font color=\"00308F\" size=110>Evaluating $\\pi$ using Monte Carlo</font></h1>\n",
    "\n",
    "This notebook supplements the lesson 8 course notes on Monte Carlo."
   ]
  },
  {
   "cell_type": "markdown",
   "metadata": {},
   "source": [
    "Let's start by setting up our environment and importing what we need.  "
   ]
  },
  {
   "cell_type": "code",
   "execution_count": null,
   "metadata": {
    "collapsed": true
   },
   "outputs": [],
   "source": [
    "import numpy as np\n",
    "import matplotlib.pyplot as plt\n",
    "%matplotlib inline"
   ]
  },
  {
   "cell_type": "markdown",
   "metadata": {
    "collapsed": true
   },
   "source": [
    "## Laplace's Method of Measuring $\\pi$\n",
    "\n",
    "Recall from the [Lesson 8 course notes](08-01_MC1.pdf) that Laplace used the generation of random points in a rectangle to calculate \\pi.  The approach is illustrated best as\n",
    "\n",
    "![](pi.jpg \"Title\")\n",
    "\n",
    "where we have a circle with a $1$ unit radius inside a square with $2$ units of length per side.\n",
    "\n",
    "The area of the square is\n",
    "\n",
    "$$ A_s = 4 $$\n",
    "\n",
    "and the area of the circle is \n",
    "\n",
    "$$ A_c = \\pi. $$\n",
    "\n",
    "It then follow that a randomly selected point with fall within the cricle with a probability of\n",
    "\n",
    "$$ p = \\frac{A_c}{A_s} = \\frac{\\pi}{4}.$$\n",
    "\n",
    "This can be written in terms of the random points selected\n",
    "\n",
    "$$ \\pi = {N_c}{N} $$\n",
    "\n",
    "$$ \\therefore \\ \\ \\pi = \\frac{4N_c}{N}  $$"
   ]
  },
  {
   "cell_type": "markdown",
   "metadata": {},
   "source": [
    "## Evaluate Pi Using Laplace's Method\n",
    "\n",
    "Using the above definitions, let's evaluate Pi. \n",
    "\n",
    "First, a reminder of the formula for a circle:\n",
    "\n",
    "$$ y = \\sqrt{1-X^2}, $$\n",
    "\n",
    "which means that if\n",
    "\n",
    "$$ x^2 + y^2 \\le 1, $$\n",
    "\n",
    "then the sampled point is within the circle.\n",
    "\n",
    "Write a function to calculate $\\pi$ by randomly sampling on the interval [0,1]."
   ]
  },
  {
   "cell_type": "code",
   "execution_count": null,
   "metadata": {
    "collapsed": true
   },
   "outputs": [],
   "source": [
    "#! Define a function to calculate Pi given a number of samples to consider. Have it result the estimation of Pi\n"
   ]
  },
  {
   "cell_type": "code",
   "execution_count": null,
   "metadata": {},
   "outputs": [],
   "source": [
    "#! Test your function to calculate Pi\n"
   ]
  },
  {
   "cell_type": "markdown",
   "metadata": {},
   "source": [
    "## Test the Convergence\n",
    "\n",
    "It is clear that more samples gives us a more accurate answer, but at what rate does this method converge?  Experimentally determine the convergence rate using the MC $\\pi$ calculator you defined above."
   ]
  },
  {
   "cell_type": "code",
   "execution_count": null,
   "metadata": {},
   "outputs": [],
   "source": [
    "#! Test the convergence rate experimentally\n"
   ]
  },
  {
   "cell_type": "code",
   "execution_count": null,
   "metadata": {
    "collapsed": true
   },
   "outputs": [],
   "source": []
  }
 ],
 "metadata": {
  "kernelspec": {
   "display_name": "Python 2",
   "language": "python",
   "name": "python2"
  },
  "language_info": {
   "codemirror_mode": {
    "name": "ipython",
    "version": 2
   },
   "file_extension": ".py",
   "mimetype": "text/x-python",
   "name": "python",
   "nbconvert_exporter": "python",
   "pygments_lexer": "ipython2",
   "version": "2.7.13"
  }
 },
 "nbformat": 4,
 "nbformat_minor": 1
}
