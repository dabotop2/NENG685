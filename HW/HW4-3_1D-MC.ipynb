{
 "metadata": {
  "kernelspec": {
   "display_name": "Python 2",
   "language": "python",
   "name": "python2"
  },
  "language_info": {
   "codemirror_mode": {
    "name": "ipython",
    "version": 2
   },
   "file_extension": ".py",
   "mimetype": "text/x-python",
   "name": "python",
   "nbconvert_exporter": "python",
   "pygments_lexer": "ipython2",
   "version": "2.7.13"
  },
  "name": "",
  "signature": "sha256:b7e27a5bae3d52a2968c61ace257b84e06592fa08542e095b749c4b4289eb497"
 },
 "nbformat": 3,
 "nbformat_minor": 0,
 "worksheets": [
  {
   "cells": [
    {
     "cell_type": "markdown",
     "metadata": {},
     "source": [
      "#### <h1 align=\"center\"><font color=\"00308F\" size=110>Your First Monte Carlo Radiation Transport Code</font></h1>\n",
      "\n",
      "This notebook supplements the lesson 9 course notes on Monte Carlo."
     ]
    },
    {
     "cell_type": "markdown",
     "metadata": {},
     "source": [
      "Let's start by setting up our environment and importing what we need.  "
     ]
    },
    {
     "cell_type": "code",
     "collapsed": true,
     "input": [
      "import numpy as np\n",
      "import matplotlib.pyplot as plt\n",
      "%matplotlib inline"
     ],
     "language": "python",
     "metadata": {},
     "outputs": [],
     "prompt_number": 1
    },
    {
     "cell_type": "markdown",
     "metadata": {
      "collapsed": true
     },
     "source": [
      "## Problem Definition\n",
      "\n",
      "Let's create a 1-D MC transport code. For our 1D code, we have a layer geometry consisting of 2 materials and 4 layers:\n",
      "\n",
      " - 1 cm $^{235}$U\n",
      " - 3 cm H$_2$O\n",
      " - 1 cm $^{235}$U\n",
      " - 3 cm H$_2$O\n",
      " \n",
      "We want to tally the path lengh estimate of the flux in each cell assuming a point source that only emits in the +x direction. Although we are transporting in 1D, we will assume that each we have a cross-sectional area of 1cm$^2$ (for volume calculations).\n",
      "\n",
      "The starting source is a mono-energetic beam of 2.45 MeV neutrons.\n",
      "\n",
      "For simplification purposes, scattering is assumed to be only possible into the $\\pm$x directions, but the energy of the scattered particle is not tied to the scattering angle (note: this is non-physical and violated the conservation of momentum).\n",
      "\n",
      "The energy distribution of the scattered particle is a uniform distribution between 0 and $E_n$, where $E_n$ is the energy of the incident scattered neutron.\n",
      "\n",
      "We will consider only two reactions - scattering and absorption.  The cross-section is assumed to be constant. \n",
      "\n",
      "Let's start by writing each of the key functions, and then we can pull it all together at the end.\n",
      "\n",
      "First, let's define some basic problem parameters:\n",
      "\n",
      "*Note:* The code here isn't the best way of managing the data, but it is explicit and works for this simple problem.  How could we do this better?"
     ]
    },
    {
     "cell_type": "code",
     "collapsed": true,
     "input": [
      "# Define the MACROSCOPIC cross-section [cm^-1] \n",
      "h20XSec = {\"scatter\": 1.1, \"abs\": 0.1}\n",
      "uXSec =  {\"scatter\": 2.1, \"abs\": 1.5}\n",
      "\n",
      "# Define problem boundaries locations\n",
      "boundaries = [0, .1, .4, .5, .8]\n",
      "volumes = np.array([.1, .3, .1, .3])\n",
      "\n",
      "# Define the materials and total cross-section in each boundary\n",
      "materials = [0, 1, 0, 1]\n",
      "totXSec = [3.6, 1.2, 3.6, 1.2]"
     ],
     "language": "python",
     "metadata": {},
     "outputs": [],
     "prompt_number": 2
    },
    {
     "cell_type": "markdown",
     "metadata": {},
     "source": [
      "### Sample Discrete CDF\n",
      "\n",
      "We need to develop a method to sample a discrete CDF for sampling the cross-sections.  For this, we can borrow from the function created in Lesson 8."
     ]
    },
    {
     "cell_type": "code",
     "collapsed": false,
     "input": [
      "# Define pdfs\n",
      "xSecPDF = [{\"scatter\": 0.583, \"abs\": 0.417}, {\"scatter\": 0.917, \"abs\": 0.083}]\n",
      "\n",
      "# Define a CDF\n",
      "xSecCDF =  [{\"scatter\": (0.0, 0.583), \"abs\": (0.583, 1.0)}, {\"scatter\": (0.0, 0.917), \"abs\": (0.917, 1.0)}]\n",
      "\n",
      "# Create a function to sample discrete CDFs\n",
      "def sampDiscrete(cdf):\n",
      "    r = np.random.rand()\n",
      "    for k, v in cdf.iteritems():\n",
      "        if r > v[0] and r < v[1]:\n",
      "            return k\n",
      "        \n",
      "# Test your discrete function\n",
      "tally = {\"scatter\": 0, \"abs\": 0}\n",
      "for i in range(10000):\n",
      "    tally[sampDiscrete(xSecCDF[0])] += 1\n",
      "\n",
      "print tally"
     ],
     "language": "python",
     "metadata": {},
     "outputs": [
      {
       "output_type": "stream",
       "stream": "stdout",
       "text": [
        "{'abs': 4182, 'scatter': 5818}\n"
       ]
      }
     ],
     "prompt_number": 3
    },
    {
     "cell_type": "markdown",
     "metadata": {},
     "source": [
      "### Define a Particle Class\n",
      "\n",
      "This class determines everything about the particle and tracks all of its information throughout the problem."
     ]
    },
    {
     "cell_type": "code",
     "collapsed": true,
     "input": [
      "class Particle(object):\n",
      "    \"\"\"!\n",
      "    The class creates a particle object that represents the history of a \n",
      "    transport particle. This class is created with this simplified 1D \n",
      "    problem in mind, but it could be extended to further dimensions.\n",
      "    \"\"\"\n",
      "\n",
      "    ##\n",
      "    def __init__(self, xLoc=0.0, direction=1, energy=2.45, cell=0):\n",
      "        \"\"\"!\n",
      "        Constructor to build the particle class.\n",
      "        @param self: <em> object pointer </em> \\n\n",
      "            The object pointer. \\n\n",
      "        @param xLoc: \\e float \\n\n",
      "            The x coordinate location history. \\n\n",
      "        @param direction: \\e integer \\n\n",
      "            The direction of the particle - options are +/-1. \\n\n",
      "        @param energy: \\e float \\n\n",
      "            The energy of the particle. \\n\n",
      "        @param cell: \\e integer \\n\n",
      "            The current cell location of the particle. \\n\n",
      "        \"\"\"\n",
      "\n",
      "        ## @var xLoc: \\e float\n",
      "        # The x coordinate location history.\n",
      "        self.xLoc = xLoc\n",
      "        ## @var direction: \\e integer\n",
      "        # The direction of the particle - options are +/-1.\n",
      "        self.direction = direction\n",
      "        ## @var energy: \\e float\n",
      "        # The energy of the particle.\n",
      "        self.energy = energy\n",
      "        ## @var cell: \\e integer\n",
      "        # The current cell location of the particle.\n",
      "        self.cell = cell\n",
      "        ## @var tally: <em> list of floats </em>\n",
      "        # The tally of the path length traversed by cell\n",
      "        self.tally = np.array([0., 0., 0., 0.])\n",
      "\n",
      "    def __repr__(self):\n",
      "        \"\"\"!\n",
      "        Particle print function.\n",
      "        @param self: <em> particle pointer </em> \\n\n",
      "            The particle pointer. \\n\n",
      "        \"\"\"\n",
      "        return \"Particle({}, {}, {})\".format(self.xLoc, self.energy,\n",
      "                                            self.cell)\n",
      "\n",
      "    def __str__(self):\n",
      "        \"\"\"!\n",
      "        Human readable particle print function.\n",
      "        @param self: <em> particle pointer </em> \\n\n",
      "            The particle pointer. \\n\n",
      "        \"\"\"\n",
      "\n",
      "        header = [\"\\Particle:\"]\n",
      "        header += [\"X        E      Cell\"]\n",
      "        header = \"\\n\".join(header)+\"\\n\"\n",
      "        tmp = \"\"\n",
      "        tmp += \"{0:<7}{1}{2}\\n\".format(self.xLoc, self.energy, self.cell)\n",
      "        header = header + tmp\n",
      "        return header"
     ],
     "language": "python",
     "metadata": {},
     "outputs": [],
     "prompt_number": null
    },
    {
     "cell_type": "markdown",
     "metadata": {},
     "source": [
      "### Sample the distance to the next collision\n",
      "\n",
      "The idea approach would be to make some of the subsequent functions methods of the particle class, but that detracts from the readability within the notebook. There is python packages that can enable the definition of a class over multiple cells (pdc), but we don't have that at AFIT.\n",
      "\n",
      "From the course notes, we can sample the number of MFPs to the next collision by \n",
      "\n",
      "$$ n_c = -ln(\\xi).$$\n",
      "\n",
      "From there, we can determine the distance in the current material according to\n",
      "\n",
      "$$ s_c = \\frac{n_c}{\\Sigma_{t,i}}$$\n",
      "\n",
      "where $i$ denotes the material that composes the cell.\n",
      "\n",
      "Let's write a function to add an attribute to the particle class that saves $n_c$, and let's write a function that calculates the distance to the next collision site provided a cross-section.  "
     ]
    },
    {
     "cell_type": "code",
     "collapsed": true,
     "input": [
      "#! Write a function to sample the number of MFP and save it to the particle class\n",
      "def calcNumMFP(particle):\n",
      "    r = np.random.rand()\n",
      "    particle.numMFP=-np.log(r)\n",
      "    \n",
      "# Calculate the distance to the next collision given a number of collisions and a total cross-section\n",
      "def distToCol(numMFP, xSec):\n",
      "    return numMFP/xSec"
     ],
     "language": "python",
     "metadata": {},
     "outputs": [],
     "prompt_number": 7
    },
    {
     "cell_type": "heading",
     "level": 3,
     "metadata": {},
     "source": [
      "Find distance to next boundary"
     ]
    },
    {
     "cell_type": "code",
     "collapsed": true,
     "input": [
      "#! Write a function to calculate the distance to the next boundary\n",
      "def calcDistToBound(particle, bounds):\n",
      "    if particle.direction == 1:\n",
      "        return bound[particle.cell + 1] - particle.xLoc\n",
      "    elif particle.direction == -1:\n",
      "        return particle.xLoc - bound[particle.cell]\n",
      "    else:\n",
      "        print \"Error: your particle is moving awkwardly!\""
     ],
     "language": "python",
     "metadata": {},
     "outputs": [],
     "prompt_number": 8
    },
    {
     "cell_type": "markdown",
     "metadata": {},
     "source": [
      "### Sample the energy distribution   \n",
      "\n",
      "Sample the energy loss in a collision and update the particles energy.  Assume that a single scatter, regardless of material, can lose all of the energy, and it is equally probably to lose any amount of energy from zero to all in a single collision."
     ]
    },
    {
     "cell_type": "code",
     "collapsed": true,
     "input": [
      "def updateEnergy(particle):\n",
      "    particle.energy = particle.energy - np.random.rand()*(particle.energy)"
     ],
     "language": "python",
     "metadata": {},
     "outputs": [],
     "prompt_number": null
    },
    {
     "cell_type": "heading",
     "level": 3,
     "metadata": {},
     "source": [
      "Sample the direction"
     ]
    },
    {
     "cell_type": "code",
     "collapsed": true,
     "input": [
      "def updateDir(particle):\n",
      "    r = np.random.rand()\n",
      "    if r < 0.5:\n",
      "        particle.direction = particle.direction*-1 \n",
      "    else:\n",
      "        particle.direction = particle.direction*1"
     ],
     "language": "python",
     "metadata": {},
     "outputs": [],
     "prompt_number": null
    },
    {
     "cell_type": "heading",
     "level": 3,
     "metadata": {},
     "source": [
      "Transport the Particle"
     ]
    },
    {
     "cell_type": "code",
     "collapsed": true,
     "input": [
      "#! Write a function to transport a particle from the branch point in Figure 1 from Lesson 9 notes.\n",
      "def transport(particle, s_b, s_c, CDF, materials, bounds, totXSec):\n",
      "    while particle.energy>0:\n",
      "        if s_c<s_b:\n",
      "            particle.xLoc= particle.xLoc+s_c*particle.direction\n",
      "            particle.tally[particle.cell]+=s_c\n",
      "            if sampDiscrete(CDF)=='scatter':\n",
      "                updateDir(particle)\n",
      "                updateEnergy(particle)\n",
      "                calcNumMFP(particle)\n",
      "                distToCol(particle.numMFP, totXSec[particle.cell])\n",
      "                calcDistToBound(particle, bounds)\n",
      "\n",
      "            if sampDiscrete(CDF)=='abs':\n",
      "                return\n",
      "        if s_c>s_b:\n",
      "\n",
      "        else: \n",
      "            print('particle has not transported')"
     ],
     "language": "python",
     "metadata": {},
     "outputs": [],
     "prompt_number": null
    },
    {
     "cell_type": "code",
     "collapsed": false,
     "input": [
      "#! Write the main controller program using the classes and functions defined above\n",
      "N = 2000\n",
      "tally = np.array([0., 0., 0., 0.])\n",
      "\n",
      "for i in range(N):\n",
      "    "
     ],
     "language": "python",
     "metadata": {},
     "outputs": [],
     "prompt_number": null
    },
    {
     "cell_type": "code",
     "collapsed": true,
     "input": [],
     "language": "python",
     "metadata": {},
     "outputs": [],
     "prompt_number": null
    }
   ],
   "metadata": {}
  }
 ]
}