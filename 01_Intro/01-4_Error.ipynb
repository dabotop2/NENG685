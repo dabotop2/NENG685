{
 "cells": [
  {
   "cell_type": "markdown",
   "metadata": {},
   "source": [
    "# Numerical Precision and Error\n",
    "\n",
    "We review how numbers and characters are represented in memory, types of numerical error, and floating point number representation and arithmetic.  "
   ]
  },
  {
   "cell_type": "markdown",
   "metadata": {},
   "source": [
    "## Computer Memory\n",
    "\n",
    "Inside Memory, there exists millions/billions of switches.  Each switch has two states:\n",
    "\n",
    "\"On\" = 1\n",
    "\"Off\" = 0\n",
    "\n",
    "This dual nature gives rise to \"binary\" - a base 2 sytstem.  One binary digit is a bit.\n",
    "\n",
    "Traditionally, a group of 8 bits is a byte:\n",
    "\n",
    "1 byte:  2$^8$  = 256 possible values <br\\>\n",
    "2 bytes: 2$^{16}$ = 65,536 possible values <br\\>\n",
    "4 bytes: 2$^{32}$ = 4,294,967,296 possible values <br\\>\n",
    "8 bytes: 2$^{64}$ = 1.844674407 x 10$^{19}$ possible values <br\\>\n",
    "\n",
    "Generally, these values are split between positive and negative values.  For example, 1 byte has a range of -128 to 127.\n",
    "\n",
    "The only thing that a computer can store is bytes.\n",
    "\n",
    "To store anything in a computer, you must first encode it, i.e. convert it to bytes. For example:\n",
    "\n",
    "    If you want to store music, you must first encode it using MP3, WAV, etc.\n",
    "    If you want to store a picture, you must first encode it using PNG, JPEG, etc.\n",
    "    If you want to store text, you must first encode it using ASCII, UTF-8, etc.\n",
    "\n",
    "So what about the basic types of variables we use?\n",
    "\n",
    "### Strings\n",
    "\n",
    "It depends on the encodings.  For example, try:"
   ]
  },
  {
   "cell_type": "markdown",
   "metadata": {},
   "source": [
    "#help(len)\n",
    "#help(str.encode)\n",
    "print len('s'.encode(\"ASCII\"))\n",
    "print len('string'.encode(\"ASCII\"))\n",
    "print len('I am a string'.encode(\"ASCII\"))\n",
    "print len('I am a string'.encode(\"utf32\"))\n",
    "\n",
    "chineseString=\"你好\"\n",
    "print chineseString\n",
    "print len(chineseString)"
   ]
  },
  {
   "cell_type": "markdown",
   "metadata": {},
   "source": [
    "As you can see, the size of the string depends on \n",
    " \n",
    " a) The number of characters in the string <br\\>\n",
    " b) The encoding used for the string\n",
    " \n",
    "The more bytes the encoding uses, the more characters that can be represented.  Here is a list of [Python standard encodings](https://docs.python.org/2.4/lib/standard-encodings.html).\n",
    "\n",
    "### Integers\n",
    "\n",
    "It depends on the size of the int!  Python automatically adds bytes to represent the integer given. Try this with the code below:"
   ]
  },
  {
   "cell_type": "code",
   "execution_count": 65,
   "metadata": {},
   "outputs": [
    {
     "name": "stdout",
     "output_type": "stream",
     "text": [
      "The number of bytes is 1 for the number 1.\n"
     ]
    }
   ],
   "source": [
    "from math import ceil\n",
    "anInt=1\n",
    "print 'The number of bytes is {:d} for the integer {:d}.'.format(int(ceil(anInt.bit_length()/8.)), anInt)\n"
   ]
  },
  {
   "cell_type": "markdown",
   "metadata": {},
   "source": [
    "### Floats\n",
    "\n",
    "Floats default to double precision on your system's architectures.  You can check the attributes of a float on your stystem by running:"
   ]
  },
  {
   "cell_type": "code",
   "execution_count": 92,
   "metadata": {},
   "outputs": [
    {
     "name": "stdout",
     "output_type": "stream",
     "text": [
      "1.79769313486e+308\n",
      "2.22507385851e-308\n",
      "2.22044604925e-16\n",
      "15\n"
     ]
    }
   ],
   "source": [
    "from sys import float_info\n",
    "print float_info.max\n",
    "print float_info.min\n",
    "\n",
    "print float_info.epsilon\n",
    "print float_info.dig"
   ]
  },
  {
   "cell_type": "markdown",
   "metadata": {},
   "source": [
    "But what if you want to control the size of your variables?  Python gives you a way to do that too!"
   ]
  },
  {
   "cell_type": "code",
   "execution_count": 89,
   "metadata": {},
   "outputs": [
    {
     "name": "stdout",
     "output_type": "stream",
     "text": [
      "Float Type  Bits in Exp  Bits in Mantissa  Total Bytes\n",
      "------------------------------------------------------\n",
      "float16          5             10              2\n",
      "float32          8             23              4\n",
      "float64         11             52              8\n",
      "float64         11             52              8\n"
     ]
    }
   ],
   "source": [
    "import numpy as np\n",
    "print 'Float Type  Bits in Exp  Bits in Mantissa  Total Bytes'\n",
    "print '------------------------------------------------------'\n",
    "for f in (np.float16, np.float32, np.float64, float):\n",
    "    finfo = np.finfo(f)\n",
    "    print '{} {:10d} {:14d} {:14d}'.format(finfo.dtype, finfo.nexp, finfo.nmant, (finfo.nexp+finfo.nmant+1)/8)"
   ]
  },
  {
   "cell_type": "markdown",
   "metadata": {},
   "source": [
    "## Types of Error\n",
    "\n",
    "There are three main types of numerical error:\n",
    "\n",
    "  1) Roundoff error\n",
    "  2) Range error\n",
    "  3) Truncation error\n",
    "  \n",
    "Let's look at some examples of each:\n",
    "\n",
    "### Roundoff Error\n",
    "Roundoff error occurs because of the computing device's inability to deal with certain numbers. Such numbers need to be rounded off to some near approximation which is dependent on the word size used to represent numbers of the device.\n",
    "\n",
    "#### Subtraction of two very different numbers:"
   ]
  },
  {
   "cell_type": "code",
   "execution_count": 118,
   "metadata": {},
   "outputs": [
    {
     "name": "stdout",
     "output_type": "stream",
     "text": [
      "Python calculated 2.150000000000000e+12\n",
      "The answer is 2.1499999999999999875E12\n",
      "The difference between the known value and the calculated value is 0.000000000000000e+00\n"
     ]
    }
   ],
   "source": [
    "x = 2.15E12\n",
    "y = .0000000000000000125E12\n",
    "\n",
    "print 'Python calculated {:.15e}'.format(x-y)\n",
    "print 'The answer is {}'.format('2.1499999999999999875E12')"
   ]
  },
  {
   "cell_type": "markdown",
   "metadata": {},
   "source": [
    "Did you get what you expected? Why?\n",
    "\n",
    "Rather than using all these digits, floating-point hardware normally operates on a fixed number of digits. Suppose that the number of digits kept is p, and that when the smaller operand is shifted right, digits are simply discarded (as opposed to rounding). \n",
    "\n",
    "Consider another case:"
   ]
  },
  {
   "cell_type": "code",
   "execution_count": 116,
   "metadata": {},
   "outputs": [
    {
     "name": "stdout",
     "output_type": "stream",
     "text": [
      "Using scientific notation 1.699999999999999289e-01\n",
      "Without scientific notation 0.169999999999999929\n",
      "The difference between the known value and the calculated value is 8.326672684688674053e-17\n"
     ]
    }
   ],
   "source": [
    "x = 1.01E1\n",
    "y = 0.993E1\n",
    "z = x-y\n",
    "print 'Using scientific notation {:.18e}'.format(z)\n",
    "\n",
    "a = 10.1\n",
    "b = 9.93\n",
    "c = a-b\n",
    "print 'Without scientific notation {:.18f}'.format(c)\n",
    "\n",
    "print 'The difference between the known value and the calculated value is {:.18e}'.format(0.17-c)"
   ]
  },
  {
   "cell_type": "markdown",
   "metadata": {},
   "source": [
    "#### Subtraction of two nearly equal numbers\n",
    "\n",
    "Now what happens if we subtract two nearly equal numbers?  Try creating your own code below:"
   ]
  },
  {
   "cell_type": "markdown",
   "metadata": {},
   "source": [
    "To understand a bit of what is under the hood, a notebook is just a single (JSON) file:"
   ]
  },
  {
   "cell_type": "code",
   "execution_count": null,
   "metadata": {},
   "outputs": [],
   "source": []
  },
  {
   "cell_type": "markdown",
   "metadata": {},
   "source": [
    "## Range Error\n",
    "\n",
    "Where roundoff error deals with the appromation in the mantissa, range error is associated with the exponent.\n",
    "\n",
    "Consider the Bohr radius:\n",
    "\n",
    "$a_0 = \\frac{4\\pi \\epsilon_0 \\hbar^2}{m_e e^2} \\approx 5.3E-11$\n",
    "\n",
    "This is easily within the range of all floats.  However, consider the break down of the components:\n",
    "\n",
    "$4\\pi \\epsilon_0 \\hbar^2 \\approx 1.24E-78$ <br\\>\n",
    "$m_e e^2 \\approx 2.34E-68$\n",
    "\n",
    "Does this matter?  Try the following code:"
   ]
  },
  {
   "cell_type": "code",
   "execution_count": 126,
   "metadata": {},
   "outputs": [
    {
     "name": "stdout",
     "output_type": "stream",
     "text": [
      "Numerator = 0.000000000000000e+00\n",
      "Denominator = 0.000000000000000e+00\n",
      "The Bohr radius = nan\n"
     ]
    },
    {
     "name": "stderr",
     "output_type": "stream",
     "text": [
      "C:\\Users\\James\\Anaconda2\\lib\\site-packages\\ipykernel_launcher.py:6: RuntimeWarning: invalid value encountered in half_scalars\n",
      "  \n"
     ]
    }
   ],
   "source": [
    "import numpy as np\n",
    "num = np.float16(1.24E-78)\n",
    "print 'Numerator = {:.15e}'.format(num)\n",
    "denom = np.float16(2.34E-68)\n",
    "print 'Denominator = {:.15e}'.format(denom)\n",
    "print 'The Bohr radius = {:.15e}'.format(num/denom)"
   ]
  },
  {
   "cell_type": "markdown",
   "metadata": {},
   "source": [
    "What happened?  How could you fix it?  Do so in the code section below:"
   ]
  },
  {
   "cell_type": "code",
   "execution_count": null,
   "metadata": {},
   "outputs": [],
   "source": []
  },
  {
   "cell_type": "markdown",
   "metadata": {
    "collapsed": true
   },
   "source": [
    "### Truncation Error\n",
    "\n",
    "Truncation error refers to the error in a method, which occurs because some series (finite or infinite) is truncated to a fewer number of terms. Such errors are essentially algorithmic errors and we can predict the extent of the error that will occur in the method.\n",
    "\n",
    "Consider the factorial operator:\n",
    "\n",
    "$n! = n(n-1)(n-2)....(n-(n-1))$\n",
    "\n",
    "What is a straightfoward way to implement this?  Do so below:"
   ]
  },
  {
   "cell_type": "code",
   "execution_count": null,
   "metadata": {
    "collapsed": true
   },
   "outputs": [],
   "source": []
  },
  {
   "cell_type": "markdown",
   "metadata": {},
   "source": [
    "Another way to implement this is the Stirling Approximation:\n",
    "\n",
    "$n! = \\sqrt{2n\\pi} \\ n^n e^n(1+\\frac{1}{12n}+\\frac{1}{288n^2}+...)$\n",
    "\n",
    "Implement the Stirling Approximation of the first order ($\\mathcal{O} \\left(\\frac{1}{n} \\right)$), second order($\\mathcal{O} \\left(\\frac{1}{n^2} \\right)$), and third order($\\mathcal{O} \\left(\\frac{1}{n^3} \\right)$).\n",
    "\n",
    "What do you see regarding the trunctation error? What sign would you expect the next term to have?"
   ]
  },
  {
   "cell_type": "markdown",
   "metadata": {},
   "source": [
    "## A Final Note\n",
    "\n",
    "Not all error is equally bad.  If an error stays at one point in an algorithm and doesn't aggregate further as the calculation continues, then it's considered a numerically stable error. This happens when the error causes only a very small variation in the formula result. If the opposite occurs and the error propagates bigger as the calculation continues, then it is considered numerically unstable.  \n",
    "\n",
    "Numerically stable errors are unavoidable for most practicle applications.\n",
    "\n",
    "Numerically unstable errors are tragic..."
   ]
  },
  {
   "cell_type": "code",
   "execution_count": null,
   "metadata": {
    "collapsed": true
   },
   "outputs": [],
   "source": []
  }
 ],
 "metadata": {
  "kernelspec": {
   "display_name": "Python 2",
   "language": "python",
   "name": "python2"
  },
  "language_info": {
   "codemirror_mode": {
    "name": "ipython",
    "version": 2
   },
   "file_extension": ".py",
   "mimetype": "text/x-python",
   "name": "python",
   "nbconvert_exporter": "python",
   "pygments_lexer": "ipython2",
   "version": "2.7.13"
  }
 },
 "nbformat": 4,
 "nbformat_minor": 1
}
